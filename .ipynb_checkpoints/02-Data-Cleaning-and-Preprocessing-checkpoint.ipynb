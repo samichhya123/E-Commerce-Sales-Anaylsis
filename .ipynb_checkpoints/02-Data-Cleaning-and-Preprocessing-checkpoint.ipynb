{
 "cells": [
  {
   "cell_type": "code",
   "execution_count": 24,
   "id": "2941d9cf-8b94-45f4-9142-ee34251dca17",
   "metadata": {},
   "outputs": [
    {
     "name": "stdout",
     "output_type": "stream",
     "text": [
      "Column names: Index(['index', 'SKU Code', 'Design No.', 'Stock', 'Category', 'Size',\n",
      "       'Color'],\n",
      "      dtype='object')\n",
      "Missing values after cleaning:\n",
      "index          0\n",
      "SKU Code      83\n",
      "Design No.    36\n",
      "Stock          0\n",
      "Category       0\n",
      "Size          36\n",
      "Color         45\n",
      "dtype: int64\n"
     ]
    }
   ],
   "source": [
    "import pandas as pd\n",
    "\n",
    "# Load the dataset\n",
    "file_name = r'D:\\python\\Data Science\\Python\\E-Commerce Sales Analysis\\data\\datasets\\Sale Report.csv'\n",
    "df = pd.read_csv(file_name)\n",
    "\n",
    "# Display the column names\n",
    "print(\"Column names:\", df.columns)\n",
    "\n",
    "# Handle missing values\n",
    "# Replace 'Sales' and 'Category' with actual column names from your dataset\n",
    "df['Stock'] = df['Stock'].fillna(df['Stock'].median())  # For numerical column\n",
    "df['Category'] = df['Category'].fillna(df['Category'].mode()[0])  # For categorical column\n",
    "\n",
    "# Verify missing values are handled\n",
    "print(\"Missing values after cleaning:\")\n",
    "print(df.isnull().sum())\n"
   ]
  },
  {
   "cell_type": "code",
   "execution_count": 25,
   "id": "26aa35d8-400a-4e8b-a552-ec440a589e49",
   "metadata": {},
   "outputs": [
    {
     "data": {
      "image/png": "[encoded data removed]",
      "text/plain": [
       "<Figure size 1000x600 with 1 Axes>"
      ]
     },
     "metadata": {},
     "output_type": "display_data"
    }
   ],
   "source": [
    "# Check for outliers in 'Stock' (you can choose a different column if needed)\n",
    "import matplotlib.pyplot as plt\n",
    "import seaborn as sns\n",
    "\n",
    "plt.figure(figsize=(10,6))\n",
    "sns.boxplot(x=df['Stock'])\n",
    "plt.title('Boxplot for Stock')\n",
    "plt.show()\n",
    "\n",
    "# If there are outliers, remove or cap them\n",
    "# Capping extreme outliers beyond a threshold\n",
    "q1 = df['Stock'].quantile(0.25)\n",
    "q3 = df['Stock'].quantile(0.75)\n",
    "iqr = q3 - q1\n",
    "lower_bound = q1 - 1.5 * iqr\n",
    "upper_bound = q3 + 1.5 * iqr\n",
    "\n",
    "# Remove outliers\n",
    "df = df[(df['Stock'] >= lower_bound) & (df['Stock'] <= upper_bound)]"
   ]
  },
  {
   "cell_type": "code",
   "execution_count": 29,
   "id": "ec34c0ae-b117-4144-9074-64fb7a657268",
   "metadata": {},
   "outputs": [
    {
     "name": "stdout",
     "output_type": "stream",
     "text": [
      "Missing values before cleaning:\n",
      "index          0\n",
      "SKU Code      83\n",
      "Design No.    36\n",
      "Stock         36\n",
      "Category      45\n",
      "Size          36\n",
      "Color         45\n",
      "dtype: int64\n",
      "\n",
      "Missing values after cleaning:\n",
      "index         0\n",
      "SKU Code      0\n",
      "Design No.    0\n",
      "Stock         0\n",
      "Category      0\n",
      "Size          0\n",
      "Color         0\n",
      "dtype: int64\n",
      "\n",
      "First 5 rows of the cleaned dataset:\n",
      "   index       SKU Code Design No.  Stock       Category Size Color  \\\n",
      "0      0    AN201-RED-L      AN201    5.0  AN : LEGGINGS    L   Red   \n",
      "1      1    AN201-RED-M      AN201    5.0  AN : LEGGINGS    M   Red   \n",
      "2      2    AN201-RED-S      AN201    3.0  AN : LEGGINGS    S   Red   \n",
      "3      3   AN201-RED-XL      AN201    6.0  AN : LEGGINGS   XL   Red   \n",
      "4      4  AN201-RED-XXL      AN201    3.0  AN : LEGGINGS  XXL   Red   \n",
      "\n",
      "   Stock_normalized  \n",
      "0          0.068493  \n",
      "1          0.068493  \n",
      "2          0.041096  \n",
      "3          0.082192  \n",
      "4          0.041096  \n",
      "\n",
      "Final check for missing values:\n",
      "index               0\n",
      "SKU Code            0\n",
      "Design No.          0\n",
      "Stock               0\n",
      "Category            0\n",
      "Size                0\n",
      "Color               0\n",
      "Stock_normalized    0\n",
      "dtype: int64\n"
     ]
    }
   ],
   "source": [
    "\n",
    "from sklearn.preprocessing import MinMaxScaler\n",
    "\n",
    "# Load the dataset\n",
    "file_name = r'D:\\python\\Data Science\\Python\\E-Commerce Sales Analysis\\data\\datasets\\Sale Report.csv'\n",
    "df = pd.read_csv(file_name)\n",
    "\n",
    "# Display basic information about the dataset before cleaning\n",
    "print(\"Missing values before cleaning:\")\n",
    "print(df.isnull().sum())\n",
    "\n",
    "# Handling missing values\n",
    "# For numerical column 'Stock', we impute missing values with the median\n",
    "df['Stock'] = df['Stock'].fillna(df['Stock'].median())\n",
    "\n",
    "# For categorical columns, we impute missing values with the mode (most frequent value)\n",
    "df['SKU Code'] = df['SKU Code'].fillna(df['SKU Code'].mode()[0])\n",
    "df['Design No.'] = df['Design No.'].fillna(df['Design No.'].mode()[0])\n",
    "df['Category'] = df['Category'].fillna(df['Category'].mode()[0])\n",
    "df['Size'] = df['Size'].fillna(df['Size'].mode()[0])\n",
    "df['Color'] = df['Color'].fillna(df['Color'].mode()[0])\n",
    "\n",
    "# Now, check for missing values after cleaning\n",
    "print(\"\\nMissing values after cleaning:\")\n",
    "print(df.isnull().sum())\n",
    "\n",
    "# Handle outliers in 'Stock' (using the IQR method as done earlier)\n",
    "q1 = df['Stock'].quantile(0.25)\n",
    "q3 = df['Stock'].quantile(0.75)\n",
    "iqr = q3 - q1\n",
    "lower_bound = q1 - 1.5 * iqr\n",
    "upper_bound = q3 + 1.5 * iqr\n",
    "\n",
    "# Remove outliers from the 'Stock' column\n",
    "df = df[(df['Stock'] >= lower_bound) & (df['Stock'] <= upper_bound)]\n",
    "\n",
    "# Normalize 'Stock' (if needed)\n",
    "scaler = MinMaxScaler()\n",
    "df['Stock_normalized'] = scaler.fit_transform(df[['Stock']])\n",
    "\n",
    "# Display the first few rows of the cleaned dataset\n",
    "print(\"\\nFirst 5 rows of the cleaned dataset:\")\n",
    "print(df.head())\n",
    "\n",
    "# Ensure the dataset is fully clean\n",
    "print(\"\\nFinal check for missing values:\")\n",
    "print(df.isnull().sum())\n"
   ]
  }
 ],
 "metadata": {
  "kernelspec": {
   "display_name": "Python 3 (ipykernel)",
   "language": "python",
   "name": "python3"
  },
  "language_info": {
   "codemirror_mode": {
    "name": "ipython",
    "version": 3
   },
   "file_extension": ".py",
   "mimetype": "text/x-python",
   "name": "python",
   "nbconvert_exporter": "python",
   "pygments_lexer": "ipython3",
   "version": "3.12.1"
  }
 },
 "nbformat": 4,
 "nbformat_minor": 5
}
